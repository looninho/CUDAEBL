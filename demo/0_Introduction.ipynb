{
 "cells": [
  {
   "cell_type": "markdown",
   "metadata": {},
   "source": [
    "# *Numerical simulation for ebeam lithography*\n",
    "# Introduction\n",
    "To write a pattern on a sample coated with a electron sensitive resist, the focused electron beam (ebeam) (i.e. produced by a Scanning Electron Microscope (SEM)) impingles 'dot by dot' on the surface of the sample. The interaction physic is complex, at the impingled point and around it the resist absorbs a quantity of energy given by a Point Spread function (PSF). The extend area of this absoption depend on the electron range given by the interaction of the beam and the sample. If two dots are close enough each other then the resulting ebeam exposure will be a line or even a surface, that could lead to an unattended pattern.\n",
    "\n",
    "If you want to expose a simple line or surface it will be fine but if you want for instance expose two surfaces with a very small gap in between it could be a problem.\n",
    "\n",
    "This simulation can help you to determine the good dose (the dwelltime of the ebeam at each dot) for your desired pattern. You can visualize the result in 2D with matplotlib or 3D with openGL.\n",
    "\n",
    "Thanks to the free Casino3 software you can obtain the PSF with the depth of your resist, with any ebeam parameters and any sample and resist. Of course you have to know the parameters of your instrument (the semi-angle of the SEM, the speed of the electronique module, the physical proprieties of your sample, etc.)\n",
    "\n",
    "Once you get the PSF, this python notebook will help you to visualize the ebeam exposure by using FFT convolution of dose distribution and PSF. Otherwise if you know the good ebeam exposure you can use FFT deconvolution to get the dose distribution and feed it in your pattern generator (i.e. Raith Elphy Plus).\n",
    "\n",
    "You can explore more possibilies: you can mixte two exposures (one at low 5 kV for fast writing a large surface and one at high kV for fine structures). Or you can develop your own algo... and maybe share."
   ]
  },
  {
   "cell_type": "markdown",
   "metadata": {},
   "source": [
    "# PSF by Casino3\n",
    "We start with this simple example: \n",
    "- 300 nm of ZEP520A ebeam resist on a silicon substrate.\n",
    "- the pattern to write is a photonic crystal\n",
    "- the beam energy is 30 keV\n",
    "\n",
    "There are many ways to get the PSF but the easiest for me is using Monte-Carlo simulation. We use the free software Casino3, the *ZEP520A300_Si.sim* file contains any informations about the sample and the beam, some important notes and modified parameters:\n",
    "- I use a small gap of 0.001 nm between the layers\n",
    "- the density of ZEP5200A is $1.053 g/cm^3$\n",
    "- beam location at XYZ=(0,0,0), the surface of the sample\n",
    "- 1e7 simulated electrons at 30 keV, beam semi-angle = 100 mrad for the Zeiss Supra 40 SEM\n",
    "\n",
    "For data saving, the distribution of energy is:\n",
    "- cartesian\n",
    "- relative to scan point XYZ=(4000,0,150)\n",
    "- size XYZ=(8000,0.6,310)\n",
    "- divisions XYZ=(8000,6,6)\n",
    "\n",
    "Other parameters are defaults of Casino3.\n",
    "Run the simulation, ii will take a while, and save the energy scan data to a file named *zep520_1e7_30kV_100mrad* becasue we will use this file later.\n",
    "If you don't have Casino3 installed, the energy scan data is already saved in this folder."
   ]
  },
  {
   "cell_type": "markdown",
   "metadata": {},
   "source": [
    "# Goto Demo example..."
   ]
  },
  {
   "cell_type": "code",
   "execution_count": null,
   "metadata": {},
   "outputs": [],
   "source": []
  }
 ],
 "metadata": {
  "kernelspec": {
   "display_name": "Python 3",
   "language": "python",
   "name": "python3"
  },
  "language_info": {
   "codemirror_mode": {
    "name": "ipython",
    "version": 3
   },
   "file_extension": ".py",
   "mimetype": "text/x-python",
   "name": "python",
   "nbconvert_exporter": "python",
   "pygments_lexer": "ipython3",
   "version": "3.6.8"
  }
 },
 "nbformat": 4,
 "nbformat_minor": 2
}
