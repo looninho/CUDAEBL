{
 "cells": [
  {
   "cell_type": "code",
   "execution_count": 1,
   "metadata": {},
   "outputs": [],
   "source": [
    "from timeit import default_timer as timer\n",
    "import math\n",
    "\n",
    "import numpy as np\n",
    "import matplotlib.pyplot as plt\n",
    "\n",
    "def PCsPattern(size,radius,a):\n",
    "    '''create sites for PCs.'''\n",
    "    h=a*np.sin(np.pi/3) #space between 2 holes in y line\n",
    "    nx=int((size-2*radius)/a);Lx=a*nx+2*radius\n",
    "    ny=int((size-2*radius)/h);Ly=h*ny+2*radius\n",
    "    pattern = []\n",
    "    for i in range(ny+1):\n",
    "        y = i*h - Ly/2 + radius\n",
    "        for j in range(nx+1-(i%2)):\n",
    "            x = (j + (i%2)*0.5)*a -Lx/2 + radius\n",
    "            pattern.append([x,y])\n",
    "    return np.array(pattern)\n",
    "\n",
    "def raithDots(p=1000,start_dose=1,dose_step=0.1,nx=30,ny=70):\n",
    "    '''Raith Demo dots dose test: pitch=1 (default) or 0.5 µm.'''\n",
    "    pattern = np.zeros_like(np.ndarray(((nx+1)*(ny+1),3)))\n",
    "    for i in range(pattern.shape[0]):\n",
    "        x = -nx*p/2 + (i%(nx+1))*p\n",
    "        stepy=int(i/(nx+1))\n",
    "        y = -ny*p/2 + stepy*p\n",
    "        dose = start_dose + stepy*dose_step\n",
    "        pattern[i]=[x,y,dose]\n",
    "    return pattern\n",
    "\n",
    "def dotPattern(x,y,dose=1):\n",
    "    '''just dots and dose.'''\n",
    "    return np.array([[x,y,dose]])\n",
    "\n",
    "def linPattern(x1,y1,x2,y2,ss,dose=1):\n",
    "    '''line start at (x1,y2), end at (x2,y2), step and dose at each step.'''\n",
    "    d=np.sqrt((x2-x1)**2+(y2-y1)**2)\n",
    "    a=np.arctan((y2-y1)/(x2-x1))\n",
    "    pattern = dotPattern(x1,y1,dose)\n",
    "    for s in np.arange(ss,d+ss,ss):\n",
    "        pattern = np.append(pattern, dotPattern(x1+s*np.cos(a),y1+s*np.sin(a),dose), axis=0)\n",
    "    return pattern\n",
    "\n",
    "#l=linPattern(0,0,100,0,4)\n",
    "\n",
    "def rectPattern(x1,y1,x2,y2,ss,dose=1):\n",
    "    '''rectangle = rows x lines.'''\n",
    "    pattern=linPattern(x1,y1,x2,y1,ss,dose)\n",
    "    for h in np.arange(ss,y2+ss,ss):\n",
    "        pattern=np.append(pattern,linPattern(x1,y1+h,x2,y1+h,ss,dose),axis=0)\n",
    "    return pattern\n",
    "\n",
    "#rect=rectPattern(0,0,20,10,3)\n",
    "\n",
    "def ringPattern(x,y,r,ss,dose=1):\n",
    "    '''ring center (x,y), radius r, step size and dose.'''\n",
    "    pattern = dotPattern(x+r,y,dose)\n",
    "    try:\n",
    "        n=int(2*np.pi*r/ss)\n",
    "        a=2*np.pi/n\n",
    "        for ai in np.arange(a,2*np.pi,a):\n",
    "            pattern=np.append(pattern,dotPattern(x+r*np.cos(ai),y+r*np.sin(ai),dose),axis=0)\n",
    "    except ZeroDivisionError:\n",
    "        n=0\n",
    "    return pattern\n",
    "\n",
    "#ring=ringPattern(0,0,r,4)\n",
    "\n",
    "def circPattern(x,y,r,ss,dose=1):\n",
    "    '''circle filled center at (x,y), radius, step size and dose.'''\n",
    "    pattern=ringPattern(x,y,0,ss,dose)\n",
    "    try:\n",
    "        nr=int(r/ss)\n",
    "        for i in range(1,nr):\n",
    "            pattern=np.append(pattern,ringPattern(x,y,i*ss,ss,dose),axis=0)\n",
    "    except ZeroDivisionError:\n",
    "        nr=0\n",
    "    return pattern\n",
    "\n",
    "#circ=circPattern(0,0,r,ss)\n",
    "\n",
    "def trianPattern(x,y,a,ss,dose=1):\n",
    "    '''todo!'''\n",
    "    return\n",
    "\n",
    "def polyPattern(points,ss,dose=1):\n",
    "    '''todo!'''\n",
    "    return\n",
    "\n",
    "def rot(alpha):\n",
    "    '''rotation angle alpha.\n",
    "    use case:\n",
    "        l=linPattern(0,0,36,0,4)\n",
    "        rota=rot(np.pi/3)\n",
    "        l2=l[:,:-1]*rota'''\n",
    "    return np.matrix( [[np.cos(alpha),-np.sin(alpha)],[np.sin(alpha),np.cos(alpha)]] )\n",
    "\n",
    "def mvPattern(x,y,pattern):\n",
    "    '''move pattern to (x,y).'''\n",
    "    pout=np.zeros_like(pattern)\n",
    "    for i in range(pattern.shape[0]):\n",
    "        pout[i,:-1]=[x,y]-pattern[i,:-1]\n",
    "        pout[i,-1]=pattern[i,-1]\n",
    "    return pout\n",
    "\n",
    "def replacePointsByPattern(points, pattern):\n",
    "    '''map pattern to each site of points.'''\n",
    "    pout=mvPattern(points[0,0],points[0,1],pattern)\n",
    "    for point in points[1:]:\n",
    "        pout=np.append(pout,mvPattern(point[0],point[1],pattern),axis=0)\n",
    "    return pout\n"
   ]
  },
  {
   "cell_type": "code",
   "execution_count": null,
   "metadata": {},
   "outputs": [],
   "source": [
    "p1 = mvPattern(25000.,0.,raithDots(500,0.02,0.02,15,140))\n",
    "p2 = mvPattern(-25000.,0.,raithDots())\n",
    "plt.plot(p2[:,0], p2[:,1], 'o', ms=2)\n",
    "plt.plot(p1[:,0], p1[:,1], 'o', ms=1)\n",
    "plt.axis('equal');plt.show()"
   ]
  },
  {
   "cell_type": "code",
   "execution_count": null,
   "metadata": {},
   "outputs": [],
   "source": [
    "p2=mvPattern(-25000.,0.,p2)\n",
    "plt.plot(p2[:,0], p2[:,1], 'o', ms=2)\n",
    "plt.axis('equal');plt.show()"
   ]
  },
  {
   "cell_type": "code",
   "execution_count": 2,
   "metadata": {},
   "outputs": [
    {
     "name": "stdout",
     "output_type": "stream",
     "text": [
      "total 142240 points created in 1.746003098557464 s\n"
     ]
    }
   ],
   "source": [
    "# create PC sites:\n",
    "L=4000.0;r=38.0;a=170.0;ss=4\n",
    "start = timer()\n",
    "site_points=PCsPattern(L,r,a)\n",
    "pattern=circPattern(0,0,r,ss)\n",
    "#pattern=dotPattern(0,0)\n",
    "p3=replacePointsByPattern(site_points,pattern)\n",
    "dt = timer() - start\n",
    "print(\"total {} points created in {} s\".format(p3.shape[0], dt))"
   ]
  },
  {
   "cell_type": "code",
   "execution_count": null,
   "metadata": {},
   "outputs": [],
   "source": [
    "site_points.shape"
   ]
  },
  {
   "cell_type": "markdown",
   "metadata": {},
   "source": [
    "site_points.shape,pattern.shape\n",
    "#dotPattern(0.,0.)[0],pattern[0]"
   ]
  },
  {
   "cell_type": "markdown",
   "metadata": {},
   "source": [
    "l=linPattern(0,0,36,0,4);l.shape;rota=rot(np.pi/3);l2=l[:,:-1]*rota"
   ]
  },
  {
   "cell_type": "markdown",
   "metadata": {},
   "source": [
    "plt.plot(l[:,0], l[:,1], 'o', ms=1)\n",
    "plt.plot(l2[:,0], l2[:,1], 'o', ms=1)\n",
    "plt.axis('equal');plt.show()"
   ]
  },
  {
   "cell_type": "code",
   "execution_count": null,
   "metadata": {},
   "outputs": [],
   "source": [
    "plt.plot(site_points[:,0], site_points[:,1], 'o', ms=1)\n",
    "plt.axis('equal');plt.show()"
   ]
  },
  {
   "cell_type": "code",
   "execution_count": null,
   "metadata": {},
   "outputs": [],
   "source": [
    "plt.plot(pattern[:,0], pattern[:,1], 'o', ms=1)\n",
    "plt.axis('equal');plt.show()"
   ]
  },
  {
   "cell_type": "code",
   "execution_count": null,
   "metadata": {},
   "outputs": [],
   "source": [
    "#p2=dotPattern(0,0)\n",
    "plt.plot(p3[:,0], p3[:,1], 'o', ms=1)\n",
    "plt.axis('equal');plt.show()"
   ]
  },
  {
   "cell_type": "markdown",
   "metadata": {},
   "source": [
    "## SEM parameters"
   ]
  },
  {
   "cell_type": "code",
   "execution_count": 3,
   "metadata": {},
   "outputs": [],
   "source": [
    "from scipy.constants import e\n",
    "\n",
    "Nesim=1e5 #number electron paths\n",
    "PGSpeed=6e6 #pattern generator max frequency in Hz\n",
    "semCurrentsAt30kV=np.array([24,48,196,411,1780,7300])*1e-12 #SEM currents tab in Ampere at 30 kV\n",
    "minimalDoses=semCurrentsAt30kV/PGSpeed #in C\n",
    "Nelectrons=minimalDoses/e\n",
    "normalizeFactors=Nelectrons/Nesim"
   ]
  },
  {
   "cell_type": "code",
   "execution_count": null,
   "metadata": {},
   "outputs": [],
   "source": [
    "normalizeFactors"
   ]
  },
  {
   "cell_type": "code",
   "execution_count": 4,
   "metadata": {},
   "outputs": [
    {
     "data": {
      "text/plain": [
       "((50, 800), 0.0, 1.1602830232319248)"
      ]
     },
     "execution_count": 4,
     "metadata": {},
     "output_type": "execute_result"
    }
   ],
   "source": [
    "import os\n",
    "#os.chdir('d:/labo/projets/FlatLight/casino3')\n",
    "os.chdir('c:/Users/Loon/Documents/jupyter/ebl')\n",
    "import Casino3 as cs3\n",
    "#from scipy.interpolate import interp1d\n",
    "#from scipy.stats import threshold\n",
    "#os.chdir('e:/Luan/boulot/CNRS/CRHEA/FlatLight/casino/data')\n",
    "os.chdir('e:/dev/ebl/cs3/data')\n",
    "filename='cs3_30kV_1e5_xy800_z50.dat'\n",
    "sim=cs3.Casino3(filename);zi=25\n",
    "mcdata=np.c_[sim.rrange,sim.data[zi]*normalizeFactors[2]]\n",
    "sim.data.shape,np.min(mcdata[:,1]),np.max(mcdata[:,1])"
   ]
  },
  {
   "cell_type": "code",
   "execution_count": null,
   "metadata": {},
   "outputs": [],
   "source": [
    "sim.data.shape"
   ]
  },
  {
   "cell_type": "code",
   "execution_count": null,
   "metadata": {},
   "outputs": [],
   "source": [
    "cs3.plotSim(sim,[5,10,15,20,25,30,35,40,45])"
   ]
  },
  {
   "cell_type": "code",
   "execution_count": null,
   "metadata": {},
   "outputs": [],
   "source": [
    "filename='cs3_30kV_1e5_xy800_z50_Si.dat'\n",
    "simsi=cs3.Casino3(filename)\n",
    "mcdatasi=np.c_[simsi.rrange,simsi.data[zi]*normalizeFactors[2]]\n",
    "simsi.data.shape,np.min(mcdatasi[:,1]),np.max(mcdatasi[:,1])"
   ]
  },
  {
   "cell_type": "markdown",
   "metadata": {},
   "source": [
    "## Fit 3 gauss:\n",
    "sur cs3_30kV_1e5_xy800_z50_Si.dat"
   ]
  },
  {
   "cell_type": "code",
   "execution_count": 5,
   "metadata": {},
   "outputs": [],
   "source": [
    "def pyQtpsf(x_in):\n",
    "    temp = 0.0\n",
    "    # coefficients\n",
    "    a = 8.9525600038156994E-01\n",
    "    b = 1.6686131356451853E-01\n",
    "    c = 1.1206358623797494E+00\n",
    "    d = -5.1309230854665384E+03\n",
    "    f = -8.6370673361282471E+00\n",
    "    g = 1.7726195110992959E+00\n",
    "    h = 4.5932595024587547E-02\n",
    "    i = 3.0256646690173705E-02\n",
    "    j = 1.7543824562579575E+10\n",
    "    k = -1.0485715178472005E+03\n",
    "    l = 2.0552478426806061E+02\n",
    "    Offset = 1.1088144123474852E-03\n",
    "    temp = a * math.exp(-b * x_in) + c * math.exp(-1.0 * (x_in-d) * (x_in-d) / (f * f)) + g * math.exp(-1.0 * (x_in-h) * (x_in-h) / (i * i)) + j * math.exp(-1.0 * (x_in-k) * (x_in-k) / (l * l))\n",
    "    temp += Offset\n",
    "    return temp"
   ]
  },
  {
   "cell_type": "code",
   "execution_count": null,
   "metadata": {},
   "outputs": [],
   "source": [
    "x=np.linspace(np.min(mcdatasi[:,0]), np.max(mcdatasi[:,0]),simsi.nr)\n",
    "y=np.array(list(map(pyQtpsf,x)))\n",
    "fitdatasi=np.c_[x,y]\n",
    "np.min(fitdatasi[:,1]), np.max(fitdatasi[:,1])"
   ]
  },
  {
   "cell_type": "code",
   "execution_count": null,
   "metadata": {},
   "outputs": [],
   "source": [
    "plt.semilogy(mcdatasi[:,0],mcdatasi[:,1],label=simsi.zlabels[zi]+'_Si')\n",
    "plt.semilogy(fitdatasi[:,0],fitdatasi[:,1],label='Fit3exps_psf_Si')\n",
    "plt.title('Energy Density Distribution')\n",
    "plt.xlabel('r[nm]')\n",
    "plt.ylabel('[eV]')\n",
    "plt.legend(loc='upper right', shadow=True)\n",
    "plt.show()"
   ]
  },
  {
   "cell_type": "code",
   "execution_count": null,
   "metadata": {},
   "outputs": [],
   "source": [
    "#cs3.plotSim(sim,[1])\n",
    "plt.semilogy(mcdata[:,0],mcdata[:,1],label=sim.zlabels[zi])\n",
    "plt.semilogy(mcdatasi[:,0],mcdatasi[:,1],label=simsi.zlabels[zi]+'_Si')\n",
    "plt.title('Energy Density Distribution')\n",
    "plt.xlabel('r[nm]')\n",
    "plt.ylabel('[eV]')\n",
    "plt.legend(loc='upper right', shadow=True)\n",
    "plt.show()"
   ]
  },
  {
   "cell_type": "code",
   "execution_count": null,
   "metadata": {},
   "outputs": [],
   "source": []
  },
  {
   "cell_type": "code",
   "execution_count": null,
   "metadata": {},
   "outputs": [],
   "source": [
    "def coulombToElectron(c):\n",
    "    return c/e\n",
    "\n",
    "coulombToElectron(130e-6)"
   ]
  },
  {
   "cell_type": "markdown",
   "metadata": {},
   "source": [
    "### Naive Python"
   ]
  },
  {
   "cell_type": "code",
   "execution_count": 6,
   "metadata": {},
   "outputs": [],
   "source": [
    "def myinterp1d(r,sr,M,data):\n",
    "    r_i = r/sr\n",
    "    #i_lo=int(np.floor(r_i));i_hi=int(np.ceil(r_i))\n",
    "    i_lo=int(r_i);i_hi = i_lo+1 if r_i > i_lo else i_lo\n",
    "    if (i_hi == i_lo or i_hi == M):\n",
    "        return data[i_hi,1]\n",
    "    else:\n",
    "        slope = (data[i_hi,1]-data[i_lo,1])/(data[i_hi,0]-data[i_lo,0])\n",
    "        return slope*(r-data[i_lo,0]) + data[i_lo,1]"
   ]
  },
  {
   "cell_type": "markdown",
   "metadata": {
    "collapsed": true
   },
   "source": [
    "def expose1(x,y,pattern,sr,M,dosedata):\n",
    "    re=0\n",
    "    for point in pattern:\n",
    "        r=np.sqrt((x-point[0])**2+(y-point[1])**2)\n",
    "        re += myinterp1d(r,sr,M,dosedata)\n",
    "    return re\n",
    "\n",
    "def expose2(x,y,pattern):\n",
    "    #re=0\n",
    "    for point in pattern:\n",
    "        idx=np.sqrt((x-point[0])**2+(y-point[1])**2)/ss\n",
    "        idx=list(map(int,r/ss))\n",
    "        #re += z[int(r/ss)]\n",
    "    return idx"
   ]
  },
  {
   "cell_type": "markdown",
   "metadata": {},
   "source": [
    "myinterp1d(6.5,sim.sr,sim.nr,dosedata),expose1(6.5,100,pattern,sim.sr,sim.nr,dosedata)"
   ]
  },
  {
   "cell_type": "markdown",
   "metadata": {},
   "source": [
    "for point in p2:\n",
    "    r2=np.sqrt((grid_x-point[0])**2+(grid_y-point[1])**2)"
   ]
  },
  {
   "cell_type": "markdown",
   "metadata": {
    "collapsed": true
   },
   "source": [
    "from numba import vectorize\n",
    "@vectorize(['float32(float32, float32)'], target='cuda')\n",
    "def Add(a, b):\n",
    "    return a + b\n",
    "\n",
    "# Initialize arrays\n",
    "N = 100000\n",
    "A = np.ones(N, dtype=np.float32)\n",
    "B = np.ones(A.shape, dtype=A.dtype)\n",
    "C = np.empty_like(A, dtype=A.dtype)\n",
    "\n",
    "# Add arrays on GPU\n",
    "C = Add(A, B)"
   ]
  },
  {
   "cell_type": "markdown",
   "metadata": {},
   "source": [
    "r2=r2/ss\n",
    "r2[0,0]"
   ]
  },
  {
   "cell_type": "code",
   "execution_count": null,
   "metadata": {},
   "outputs": [],
   "source": []
  },
  {
   "cell_type": "markdown",
   "metadata": {},
   "source": [
    "grid_x,grid_y=np.mgrid[-WF/2:WF/2:NP*1j,-WF/2:WF/2:NP*1j]\n",
    "start = timer()\n",
    "Z=expose1(grid_x,grid_y,pattern)\n",
    "dt = timer() - start\n",
    "print(\"Exposure created in %f s\" % dt)"
   ]
  },
  {
   "cell_type": "markdown",
   "metadata": {
    "collapsed": true
   },
   "source": [
    "th=threshold(Z, 5e7)\n",
    "a=cs3.np.clip(th,0,1)\n",
    "cs3.plt.imshow(a, extent=(-WF/2,WF/2,-WF/2,WF/2), origin='center')\n",
    "cs3.plt.show()"
   ]
  },
  {
   "cell_type": "markdown",
   "metadata": {
    "collapsed": true
   },
   "source": [
    "point=dotPattern(0,0)\n",
    "grid_x,grid_y=np.mgrid[-WF:WF:NP*2j,-WF:WF:NP*2j]\n",
    "start = timer()\n",
    "PSF=expose(grid_x,grid_y,point)\n",
    "dt = timer() - start\n",
    "print(\"Exposure created in %f s\" % dt)\n",
    "cs3.plt.imshow(PSF, extent=(-WF,WF,-WF,WF), origin='center')\n",
    "cs3.plt.show()"
   ]
  },
  {
   "cell_type": "markdown",
   "metadata": {},
   "source": [
    "## Faster Execution with Numba"
   ]
  },
  {
   "cell_type": "markdown",
   "metadata": {
    "collapsed": true
   },
   "source": [
    "def foosum(x,y,points,fct):\n",
    "    re=0\n",
    "    for point in points:\n",
    "        r=cs3.np.sqrt((x-point[0])**2+(y-point[1])**2)\n",
    "        re += fct(r)\n",
    "    return re\n",
    "\n",
    "def expose(x,y,pattern):\n",
    "    re=0\n",
    "    for point in pattern:\n",
    "        r=np.sqrt((x-point[0])**2+(y-point[1])**2)\n",
    "        re += f(r)\n",
    "    return re\n"
   ]
  },
  {
   "cell_type": "markdown",
   "metadata": {
    "collapsed": true
   },
   "source": [
    "from numba import autojit\n",
    "\n",
    "@autojit\n",
    "def psf(r):\n",
    "    return f(np.abs(r))\n",
    "\n",
    "@autojit\n",
    "def expose1(x,y,pattern):\n",
    "    re=0\n",
    "    for point in pattern:\n",
    "        r=np.sqrt((x-point[0])**2+(y-point[1])**2)\n",
    "        re += psf(r)\n",
    "    return re"
   ]
  },
  {
   "cell_type": "markdown",
   "metadata": {},
   "source": [
    "start = timer()\n",
    "Z=expose1(grid_x,grid_y,pattern)\n",
    "dt = timer() - start\n",
    "print(\"Exposure created in %f s\" % dt)"
   ]
  },
  {
   "cell_type": "markdown",
   "metadata": {},
   "source": [
    "## Even Bigger Speedups with CUDA Python\n",
    "For 2GB of RAM on NVIDIA Quadro K620, i use 1.5GB that leads to NP = 7872 pixels."
   ]
  },
  {
   "cell_type": "code",
   "execution_count": 7,
   "metadata": {},
   "outputs": [],
   "source": [
    "from numba import cuda\n",
    "from numba import *\n",
    "\n",
    "interp1d_gpu = cuda.jit(device=True)(myinterp1d)\n",
    "pyQtpsf_gpu = cuda.jit(device=True)(pyQtpsf)"
   ]
  },
  {
   "cell_type": "code",
   "execution_count": null,
   "metadata": {},
   "outputs": [],
   "source": [
    "def ramGB(n,sof=8):\n",
    "    return sof*2.048*n**2/2147483648\n",
    "\n",
    "def pxls(ramGB,sof=8):\n",
    "    return np.sqrt(ramGB*2147483648/2.048/sof)\n",
    "\n",
    "def compute_pixelSize(WF=100000,NP=7872):\n",
    "    return np.float32(WF/(NP-1))\n",
    "\n",
    "compute_pixelSize(5000)"
   ]
  },
  {
   "cell_type": "code",
   "execution_count": 8,
   "metadata": {},
   "outputs": [],
   "source": [
    "@cuda.jit\n",
    "def expose_kernel2(dest,point,NP,WF,pixel_size,sr,nr,dosedata):\n",
    "    '''expose with dose factor'''\n",
    "    #height = 512; WF = 4000.0;pixel_size = 7.8277888\n",
    "    startX, startY = cuda.grid(2)\n",
    "    gridX = cuda.gridDim.x * cuda.blockDim.x\n",
    "    gridY = cuda.gridDim.y * cuda.blockDim.y\n",
    "    for x in range(startX, NP, gridX):\n",
    "        val_x = -WF/2 + x*pixel_size\n",
    "        for y in range(startY, NP, gridY):\n",
    "            val_y = -WF/2 + y*pixel_size\n",
    "            r = math.sqrt((val_x-point[0])**2+(val_y-point[1])**2)\n",
    "            dest[y, x] += point[2]*interp1d_gpu(r,sr,nr,dosedata)"
   ]
  },
  {
   "cell_type": "code",
   "execution_count": 9,
   "metadata": {},
   "outputs": [
    {
     "name": "stdout",
     "output_type": "stream",
     "text": [
      "eblWF created on GPU in 388.444244 s\n"
     ]
    }
   ],
   "source": [
    "NP=576;WF=5000.0 #38232 dots in 394 s on i3 core + 830M\n",
    "#NP=7872;WF=5000.0 in 59793.558081 s on i5 core + K620\n",
    "blockdim = (32, 2)\n",
    "griddim = (int(NP/blockdim[0]),int(NP/blockdim[1]))\n",
    "pixel_size=np.float32(WF/(NP-1))\n",
    "z = np.zeros((NP, NP), dtype = np.float64)\n",
    "\n",
    "start = timer()\n",
    "d_image = cuda.to_device(z)\n",
    "d_mcdata = cuda.to_device(mcdata)\n",
    "for point in p3:\n",
    "    expose_kernel2[griddim, blockdim](d_image,point,NP,WF,pixel_size,sim.sr,sim.nr,d_mcdata) \n",
    "\n",
    "d_image.to_host()\n",
    "d_mcdata.to_host()\n",
    "dt = timer() - start\n",
    "print(\"eblWF created on GPU in %f s\" % dt)"
   ]
  },
  {
   "cell_type": "code",
   "execution_count": 10,
   "metadata": {},
   "outputs": [],
   "source": [
    "filename='PCs_WF5u_circle_norm_PC2_576px'\n",
    "#filename='PCs_WF5u_circle_norm_PC2_Si_576px'\n",
    "np.savetxt(filename,z)\n",
    "#z=np.loadtxt(filename)"
   ]
  },
  {
   "cell_type": "code",
   "execution_count": null,
   "metadata": {},
   "outputs": [],
   "source": [
    "filename='PCs_WF5u_circle_norm_PC2_576px'\n",
    "z=np.loadtxt(filename)"
   ]
  },
  {
   "cell_type": "code",
   "execution_count": null,
   "metadata": {},
   "outputs": [],
   "source": [
    "plt.imshow(z,origin='lower', extent=[-WF/2, WF/2, -WF/2, WF/2])\n",
    "plt.show()"
   ]
  },
  {
   "cell_type": "code",
   "execution_count": null,
   "metadata": {},
   "outputs": [],
   "source": [
    "@cuda.jit\n",
    "def expose_fit_kernel2(dest,point,NP,WF,pixel_size,sr,nr,dosedata):\n",
    "    '''expose with dose factor'''\n",
    "    #height = 512; WF = 4000.0;pixel_size = 7.8277888\n",
    "    startX, startY = cuda.grid(2)\n",
    "    gridX = cuda.gridDim.x * cuda.blockDim.x\n",
    "    gridY = cuda.gridDim.y * cuda.blockDim.y\n",
    "    for x in range(startX, NP, gridX):\n",
    "        val_x = -WF/2 + x*pixel_size\n",
    "        for y in range(startY, NP, gridY):\n",
    "            val_y = -WF/2 + y*pixel_size\n",
    "            r = math.sqrt((val_x-point[0])**2+(val_y-point[1])**2)\n",
    "            dest[y, x] += point[2]*pyQtpsf_gpu(r)"
   ]
  },
  {
   "cell_type": "code",
   "execution_count": null,
   "metadata": {},
   "outputs": [],
   "source": [
    "NP=576;WF=5000.0 #38232 dots in 394 s on i3 core + 830M\n",
    "#NP=7872;WF=5000.0 in 59793.558081 s on i5 core + K620\n",
    "blockdim = (32, 2)\n",
    "griddim = (int(NP/blockdim[0]),int(NP/blockdim[1]))\n",
    "pixel_size=np.float32(WF/(NP-1))\n",
    "z = np.zeros((NP, NP), dtype = np.float64)\n",
    "\n",
    "start = timer()\n",
    "d_image = cuda.to_device(z)\n",
    "d_fitdata = cuda.to_device(fitdatasi)\n",
    "for point in p3:\n",
    "    expose_fit_kernel2[griddim, blockdim](d_image,point,NP,WF,pixel_size,sim.sr,sim.nr,d_fitdata) \n",
    "\n",
    "d_image.to_host()\n",
    "d_fitdata.to_host()\n",
    "dt = timer() - start\n",
    "print(\"eblWF created on GPU in %f s\" % dt)"
   ]
  },
  {
   "cell_type": "code",
   "execution_count": null,
   "metadata": {},
   "outputs": [],
   "source": [
    "filename='PCs_WF5u_circle_fitPSF_PC2_Si_576px'\n",
    "np.savetxt(filename,z)\n",
    "#z=np.loadtxt(filename)"
   ]
  },
  {
   "cell_type": "code",
   "execution_count": null,
   "metadata": {},
   "outputs": [],
   "source": [
    "#wfimage *= normalizeFactors[0]\n",
    "plt.imshow(z,origin='lower', extent=[-WF/2, WF/2, -WF/2, WF/2])\n",
    "plt.show()"
   ]
  },
  {
   "cell_type": "code",
   "execution_count": null,
   "metadata": {},
   "outputs": [],
   "source": []
  },
  {
   "cell_type": "code",
   "execution_count": null,
   "metadata": {},
   "outputs": [],
   "source": []
  },
  {
   "cell_type": "code",
   "execution_count": null,
   "metadata": {},
   "outputs": [],
   "source": []
  },
  {
   "cell_type": "code",
   "execution_count": null,
   "metadata": {},
   "outputs": [],
   "source": []
  },
  {
   "cell_type": "code",
   "execution_count": null,
   "metadata": {},
   "outputs": [],
   "source": []
  },
  {
   "cell_type": "code",
   "execution_count": null,
   "metadata": {},
   "outputs": [],
   "source": []
  },
  {
   "cell_type": "code",
   "execution_count": null,
   "metadata": {},
   "outputs": [],
   "source": []
  },
  {
   "cell_type": "code",
   "execution_count": null,
   "metadata": {},
   "outputs": [],
   "source": []
  },
  {
   "cell_type": "code",
   "execution_count": null,
   "metadata": {},
   "outputs": [],
   "source": [
    "a=np.clip(th,0,1)"
   ]
  },
  {
   "cell_type": "markdown",
   "metadata": {},
   "source": [
    "@cuda.jit\n",
    "def expose_kernel(dest,point,sr,nr,mcdata):\n",
    "    height = dest.shape[0]\n",
    "    width = dest.shape[1]\n",
    "    startX, startY = cuda.grid(2)\n",
    "    gridX = cuda.gridDim.x * cuda.blockDim.x\n",
    "    gridY = cuda.gridDim.y * cuda.blockDim.y\n",
    "    for x in range(startX, width, gridX):\n",
    "        for y in range(startY, height, gridY):\n",
    "            r = math.sqrt((x-point[0])**2+(y-point[1])**2)\n",
    "            dest[y, x] += interp1d_gpu(r,sr,nr,mcdata)\n",
    "\n",
    "NP=576;WF=4000.0\n",
    "wfimage = np.zeros((NP, NP), dtype = np.float64)\n",
    "blockdim = (32, 3)\n",
    "griddim = (int(NP/blockdim[0]),int(NP/blockdim[1]))\n",
    "\n",
    "start = timer()\n",
    "d_image = cuda.to_device(wfimage)\n",
    "for point in p3:\n",
    "    expose_kernel[griddim, blockdim](d_image,point,sim.sr,sim.nr,mcdata) \n",
    "d_image.to_host()\n",
    "dt = timer() - start\n",
    "print(\"eblWF created on GPU in %f s\" % dt)\n",
    "\n",
    "\n",
    "plt.imshow(wfimage,origin='center', extent=[-WF/2, WF/2, -WF/2, WF/2])\n",
    "plt.show()\n",
    "\n",
    "np.max(wfimage)\n",
    "\n",
    "moyenne=np.mean(wfimage)\n",
    "np.max(wfimage), np.min(wfimage), sim.maxED, moyenne\n",
    "\n",
    "from scipy.stats import threshold\n",
    "th=threshold(wfimage, 1.14*moyenne)\n",
    "a=np.clip(th,0,1)\n",
    "imshow(a, extent=(-WF/2, WF/2, -WF/2, WF/2), origin='center')\n",
    "show()\n"
   ]
  },
  {
   "cell_type": "code",
   "execution_count": null,
   "metadata": {},
   "outputs": [],
   "source": [
    "@cuda.jit\n",
    "def expose_kernel3(dest,point,pixel_size,sr,nr,dosedata,NP,WF,WFcenter):\n",
    "    '''expose with dose factor'''\n",
    "    #height = 512; WF = 4000.0;pixel_size = 7.8277888\n",
    "    startX, startY = cuda.grid(2)\n",
    "    gridX = cuda.gridDim.x * cuda.blockDim.x\n",
    "    gridY = cuda.gridDim.y * cuda.blockDim.y\n",
    "    for ix in range(startX, NP, gridX):\n",
    "        val_x = -WF/2 + WFcenter[0] + ix*pixel_size\n",
    "        for iy in range(startY, NP, gridY):\n",
    "            val_y = -WF/2 + WFcenter[1] + iy*pixel_size\n",
    "            r = math.sqrt((val_x-point[0])**2+(val_y-point[1])**2)\n",
    "            dest[iy, ix] += point[2]*interp1d_gpu(r,sr,nr,dosedata)"
   ]
  },
  {
   "cell_type": "code",
   "execution_count": null,
   "metadata": {},
   "outputs": [],
   "source": [
    "@cuda.jit\n",
    "def expose_kernel4(dest,point,pixel_size,sr,nr,dosedata,NP,min_x, min_y):\n",
    "    '''expose with dose factor'''\n",
    "    #height = 512; WF = 4000.0;pixel_size = 7.8277888\n",
    "    startX, startY = cuda.grid(2)\n",
    "    gridX = cuda.gridDim.x * cuda.blockDim.x\n",
    "    gridY = cuda.gridDim.y * cuda.blockDim.y\n",
    "    for ix in range(startX, NP, gridX):\n",
    "        val_x = min_x + ix*pixel_size\n",
    "        for iy in range(startY, NP, gridY):\n",
    "            val_y = min_y + iy*pixel_size\n",
    "            r = math.sqrt((val_x-point[0])**2+(val_y-point[1])**2)\n",
    "            dest[iy, ix] += point[2]*interp1d_gpu(r,sr,nr,dosedata)"
   ]
  },
  {
   "cell_type": "markdown",
   "metadata": {},
   "source": [
    "## Kernel4 run"
   ]
  },
  {
   "cell_type": "code",
   "execution_count": null,
   "metadata": {},
   "outputs": [],
   "source": [
    "#center=[-13500.,33500.]\n",
    "#minx,miny=-16000,31000\n",
    "NP=576;WF=1000.0\n",
    "minX,minY=-15500,-35500\n",
    "blockdim = (32, 3)\n",
    "griddim = (int(NP/blockdim[0]),int(NP/blockdim[1]))\n",
    "pixel_size=np.float32(WF/(NP-1))\n",
    "wfimage = np.zeros((NP, NP), dtype = np.float64)\n",
    "\n",
    "l=0;c=0;minx=minX+c*WF;miny=minY+l*WF\n",
    "filename='expose_30kV_Dots1_'+str(l)+'_'+str(c)\n",
    "start = timer()\n",
    "d_image = cuda.to_device(wfimage)\n",
    "d_mcdata = cuda.to_device(mcdata)\n",
    "for point in p3:\n",
    "    expose_kernel4[griddim, blockdim](d_image,point,pixel_size,sim.sr,sim.nr,d_mcdata,NP,minx,miny) \n",
    "\n",
    "d_image.to_host()\n",
    "d_mcdata.to_host()\n",
    "dt = timer() - start\n",
    "print(\"eblWF created on GPU in %f s\" % dt)\n",
    "#np.savetxt(filename,wfimage)"
   ]
  },
  {
   "cell_type": "code",
   "execution_count": null,
   "metadata": {},
   "outputs": [],
   "source": [
    "np.min(wfimage),np.max(wfimage),pixel_size"
   ]
  },
  {
   "cell_type": "code",
   "execution_count": null,
   "metadata": {},
   "outputs": [],
   "source": [
    "from pylab import imshow, show\n",
    "imshow(wfimage,origin='lower', extent=[minx, minx+WF, miny, miny+WF])\n",
    "show()"
   ]
  },
  {
   "cell_type": "code",
   "execution_count": null,
   "metadata": {},
   "outputs": [],
   "source": [
    "from scipy.stats import threshold\n",
    "th=threshold(wfimage, sim.maxED/10)\n",
    "a=np.clip(th,0,1)\n",
    "imshow(a, extent=(minx, minx+WF, miny, miny+WF), origin='center')\n",
    "show()"
   ]
  },
  {
   "cell_type": "markdown",
   "metadata": {},
   "source": [
    "### kernel4 scan run on raith doses 1"
   ]
  },
  {
   "cell_type": "code",
   "execution_count": null,
   "metadata": {},
   "outputs": [],
   "source": [
    "NP=1056;WF=1000.0\n",
    "minX,minY=-15500,-35500\n",
    "blockdim = (32, 6)\n",
    "griddim = (int(NP/blockdim[0]),int(NP/blockdim[1]))\n",
    "#pixel_size=np.float32(WF/(NP-1))\n",
    "pixel_size=compute_pixelSize(WF,NP)\n",
    "for col in range(31):\n",
    "    minx=minX + col*WF\n",
    "    for raw in range(12,24):\n",
    "        filename='expose_30kV_Dots1_'+str(raw)+'_'+str(col)\n",
    "        miny = minY + raw*WF\n",
    "        wfimage = np.zeros((NP, NP), dtype = np.float64)\n",
    "        start = timer()\n",
    "        d_image = cuda.to_device(wfimage)\n",
    "        d_dosedata = cuda.to_device(dosedata)\n",
    "        for point in p2:\n",
    "            expose_kernel4[griddim, blockdim](d_image,point,pixel_size,sim.sr,sim.nr,d_dosedata,NP,minx,miny) \n",
    "        d_image.to_host()\n",
    "        d_dosedata.to_host()\n",
    "        dt = timer() - start\n",
    "        print(\"eblWF created on GPU in %f s\" % dt)"
   ]
  },
  {
   "cell_type": "markdown",
   "metadata": {},
   "source": [
    "## Kernel3 run\n",
    "(dest,point,pixel_size,sr,nr,dosedata,NP,WF,WFcenter):"
   ]
  },
  {
   "cell_type": "code",
   "execution_count": null,
   "metadata": {},
   "outputs": [],
   "source": [
    "NP=576;WF=5000.0\n",
    "center=[-13500.,33500.]\n",
    "#minx,miny=-13500,33500\n",
    "pixel_size=np.float32(WF/(NP-1))\n",
    "wfimage = np.zeros((NP, NP), dtype = np.float64)\n",
    "blockdim = (32, 3)\n",
    "griddim = (int(NP/blockdim[0]),int(NP/blockdim[1]))\n",
    "\n",
    "start = timer()\n",
    "d_image = cuda.to_device(wfimage)\n",
    "d_dosedata = cuda.to_device(dosedata)\n",
    "for point in p1:\n",
    "    expose_kernel3[griddim, blockdim](d_image,point,pixel_size,sim.sr,sim.nr,d_dosedata,NP,WF,center)\n",
    "    #pass\n",
    "\n",
    "d_image.to_host()\n",
    "d_dosedata.to_host()\n",
    "dt = timer() - start\n",
    "print(\"eblWF created on GPU in %f s\" % dt)"
   ]
  },
  {
   "cell_type": "markdown",
   "metadata": {},
   "source": [
    "## Kernel2 run"
   ]
  },
  {
   "cell_type": "code",
   "execution_count": null,
   "metadata": {},
   "outputs": [],
   "source": [
    "NP=1056;WF=1000.0\n",
    "minX,minY=-15500,-35500\n",
    "blockdim = (32, 3)\n",
    "griddim = (int(NP/blockdim[0]),int(NP/blockdim[1]))\n",
    "pixel_size=np.float32(WF/(NP-1))\n",
    "wfimage = np.zeros((NP, NP), dtype = np.float64)\n",
    "\n",
    "l=35;c=15;minx=minX+c*WF;miny=minY+l*WF\n",
    "filename='expose_30kV_Dots1_'+str(l)+'_'+str(c)\n",
    "start = timer()\n",
    "d_image = cuda.to_device(wfimage)\n",
    "d_dosedata = cuda.to_device(dosedata)\n",
    "for point in p3:\n",
    "    expose_kernel2[griddim, blockdim](d_image,point,NP,WF,pixel_size,sim.sr,sim.nr,d_dosedata) \n",
    "\n",
    "d_image.to_host()\n",
    "d_dosedata.to_host()\n",
    "dt = timer() - start\n",
    "print(\"eblWF created on GPU in %f s\" % dt)"
   ]
  },
  {
   "cell_type": "code",
   "execution_count": null,
   "metadata": {},
   "outputs": [],
   "source": [
    "minX,minY"
   ]
  },
  {
   "cell_type": "code",
   "execution_count": null,
   "metadata": {},
   "outputs": [],
   "source": [
    "#from pylab import imshow, show\n",
    "imshow(wfimage,origin='lower', extent=[minX, minX+WF, minY, minY+WF])\n",
    "show()"
   ]
  },
  {
   "cell_type": "code",
   "execution_count": null,
   "metadata": {},
   "outputs": [],
   "source": [
    "NP=480;WF=100000.0\n",
    "pixel_size=np.float32(WF/(NP-1))\n",
    "wfimage = np.zeros((NP, NP), dtype = np.float64)\n",
    "blockdim = (32, 6)\n",
    "griddim = (15, 80)"
   ]
  },
  {
   "cell_type": "code",
   "execution_count": null,
   "metadata": {},
   "outputs": [],
   "source": [
    "start = timer()\n",
    "d_image = cuda.to_device(wfimage)\n",
    "d_dosedata = cuda.to_device(dosedata)\n",
    "for idx in range(0,200):\n",
    "    expose_kernel2[griddim, blockdim](d_image,p2[idx],NP,WF,pixel_size,sim.sr,sim.nr,d_dosedata) \n",
    "d_image.to_host()\n",
    "d_dosedata.to_host()\n",
    "dt = timer() - start\n",
    "print(\"eblWF created on GPU in %f s\" % dt)"
   ]
  },
  {
   "cell_type": "code",
   "execution_count": null,
   "metadata": {},
   "outputs": [],
   "source": [
    "np.savetxt('expose_30kV_raithDots1_c',wfimage)"
   ]
  },
  {
   "cell_type": "code",
   "execution_count": null,
   "metadata": {},
   "outputs": [],
   "source": [
    "p2[[0,-1]]"
   ]
  },
  {
   "cell_type": "code",
   "execution_count": null,
   "metadata": {},
   "outputs": [],
   "source": [
    "# plus grosse en 1.5 Go:\n",
    "NP=7872;WF=5000.0\n",
    "pixel_size=np.float32(WF/(NP-1))\n",
    "#wfimage=np.loadtxt('expose_30kV_100')\n",
    "blockdim = (32, 6)\n",
    "griddim = (246, 1312)\n",
    "\n",
    "start = timer()\n",
    "d_image = cuda.to_device(wfimage)\n",
    "d_dosedata = cuda.to_device(dosedata)\n",
    "for idx in range(30000,145152):\n",
    "    expose_kernel2[griddim, blockdim](d_image,p2[idx,:2],NP,WF,pixel_size,sim.sr,sim.nr,d_dosedata) \n",
    "d_image.to_host()\n",
    "d_dosedata.to_host()\n",
    "dt = timer() - start\n",
    "print(\"eblWF created on GPU in %f s\" % dt)"
   ]
  },
  {
   "cell_type": "code",
   "execution_count": null,
   "metadata": {},
   "outputs": [],
   "source": [
    "p2[[0,-1]]"
   ]
  },
  {
   "cell_type": "code",
   "execution_count": null,
   "metadata": {},
   "outputs": [],
   "source": [
    "NP=1056;WF=1000.0\n",
    "minX,minY=-15500,-35500"
   ]
  },
  {
   "cell_type": "code",
   "execution_count": null,
   "metadata": {},
   "outputs": [],
   "source": [
    "l=0;c=0;minx=minX+c*WF;miny=minY+l*WF\n",
    "filename='expose_30kV_Dots1_'+str(l)+'_'+str(c)\n",
    "wfimage=np.loadtxt(filename)"
   ]
  },
  {
   "cell_type": "code",
   "execution_count": null,
   "metadata": {},
   "outputs": [],
   "source": [
    "from pylab import imshow, show\n",
    "imshow(wfimage,origin='lower', extent=[minx, minx+WF, miny, miny+WF])\n",
    "show()\n",
    "#imshow(wfimage,origin='lower', extent=[-WF/2, WF/2, -WF/2, WF/2])\n",
    "#show()"
   ]
  },
  {
   "cell_type": "code",
   "execution_count": null,
   "metadata": {},
   "outputs": [],
   "source": [
    "np.min(wfimage),np.max(wfimage),pixel_size"
   ]
  },
  {
   "cell_type": "code",
   "execution_count": null,
   "metadata": {},
   "outputs": [],
   "source": [
    "from scipy.stats import threshold\n",
    "th=threshold(wfimage, sim.maxED/20)\n",
    "a=np.clip(th,0,1)\n",
    "imshow(a, extent=(minx, minx+WF, miny, miny+WF), origin='center')\n",
    "show()\n"
   ]
  },
  {
   "cell_type": "code",
   "execution_count": null,
   "metadata": {},
   "outputs": [],
   "source": [
    "import scipy.misc\n",
    "scipy.misc.imsave('outfile.jpg', wfimage)"
   ]
  },
  {
   "cell_type": "code",
   "execution_count": null,
   "metadata": {},
   "outputs": [],
   "source": [
    "bpp=1512900000/(NP**2)\n",
    "RAM=64;np.sqrt(RAM*1.024e9/bpp)"
   ]
  },
  {
   "cell_type": "code",
   "execution_count": null,
   "metadata": {},
   "outputs": [],
   "source": [
    "81810/96"
   ]
  },
  {
   "cell_type": "code",
   "execution_count": null,
   "metadata": {},
   "outputs": [],
   "source": [
    "96*852"
   ]
  },
  {
   "cell_type": "code",
   "execution_count": null,
   "metadata": {},
   "outputs": [],
   "source": [
    "from scipy.constants import e"
   ]
  },
  {
   "cell_type": "code",
   "execution_count": null,
   "metadata": {},
   "outputs": [],
   "source": [
    "D0=24e-12/6e6;Ne=D0/e;Norm=Ne*1e-6\n",
    "#wfimage *= Norm"
   ]
  },
  {
   "cell_type": "code",
   "execution_count": null,
   "metadata": {},
   "outputs": [],
   "source": [
    "np.max(wfimage), np.min(wfimage)"
   ]
  },
  {
   "cell_type": "code",
   "execution_count": null,
   "metadata": {},
   "outputs": [],
   "source": [
    "[D0,Ne,Norm]"
   ]
  },
  {
   "cell_type": "markdown",
   "metadata": {},
   "source": [
    "# use PyQtGraph:"
   ]
  },
  {
   "cell_type": "code",
   "execution_count": null,
   "metadata": {},
   "outputs": [],
   "source": [
    "from pyqtgraph.Qt import QtCore, QtGui\n",
    "import pyqtgraph as pg\n",
    "import pyqtgraph.opengl as gl\n",
    "import sys\n",
    "\n",
    "## Create a GL View widget to display data\n",
    "app = QtGui.QApplication([])"
   ]
  },
  {
   "cell_type": "code",
   "execution_count": null,
   "metadata": {},
   "outputs": [],
   "source": [
    "NP=576;WF=5000.0 #38232 dots in 394 s on i3 core + 830M\n",
    "#NP=7872;WF=5000.0 in 59793.558081 s on i5 core + K620\n",
    "blockdim = (32, 2)\n",
    "griddim = (int(NP/blockdim[0]),int(NP/blockdim[1]))"
   ]
  },
  {
   "cell_type": "code",
   "execution_count": null,
   "metadata": {},
   "outputs": [],
   "source": [
    "filename='PCs_WF5u_circle_norm_PC4_576px'\n",
    "mcdata=np.c_[sim.rrange,sim.data[zi]*normalizeFactors[4]]\n",
    "z = np.zeros((NP, NP), dtype = np.float64)\n",
    "\n",
    "start = timer()\n",
    "d_image = cuda.to_device(z)\n",
    "d_mcdata = cuda.to_device(mcdata)\n",
    "for point in p3:\n",
    "    expose_kernel2[griddim, blockdim](d_image,point,NP,WF,pixel_size,sim.sr,sim.nr,d_mcdata) \n",
    "\n",
    "d_image.to_host()\n",
    "d_mcdata.to_host()\n",
    "dt = timer() - start\n",
    "print(\"eblWF created on GPU in %f s\" % dt)\n",
    "np.savetxt(filename,z)\n",
    "x=np.linspace(-WF/2,WF/2,NP)\n",
    "y=np.linspace(-WF/2,WF/2,NP)"
   ]
  },
  {
   "cell_type": "code",
   "execution_count": null,
   "metadata": {},
   "outputs": [],
   "source": [
    "filename='PCs_WF5u_circle_norm_PC2_576px'\n",
    "#filename='PCs_WF5u_circle_norm_PC2_Si_576px'\n",
    "#filename='PCs_WF5u_circle_fitPSF_PC2_Si_576px'\n",
    "z=np.loadtxt(filename)\n",
    "x=np.linspace(-WF/2,WF/2,NP)\n",
    "y=np.linspace(-WF/2,WF/2,NP)\n",
    "np.min(z),np.max(z)"
   ]
  },
  {
   "cell_type": "code",
   "execution_count": null,
   "metadata": {},
   "outputs": [],
   "source": [
    "2087.1376355893435/229.81964976152321,2572.6035667713772/283.2754489253856"
   ]
  },
  {
   "cell_type": "code",
   "execution_count": null,
   "metadata": {},
   "outputs": [],
   "source": [
    "z *= 9\n",
    "np.min(z),np.max(z)"
   ]
  },
  {
   "cell_type": "code",
   "execution_count": null,
   "metadata": {},
   "outputs": [],
   "source": []
  },
  {
   "cell_type": "code",
   "execution_count": null,
   "metadata": {},
   "outputs": [],
   "source": []
  },
  {
   "cell_type": "code",
   "execution_count": null,
   "metadata": {},
   "outputs": [],
   "source": [
    "w = gl.GLViewWidget()\n",
    "w.show()\n",
    "w.setWindowTitle('GLSurfacePlot: '+filename)\n",
    "w.setCameraPosition(distance=50)\n",
    "\n",
    "## Add a grid to the view\n",
    "g = gl.GLGridItem()\n",
    "g.scale(1,1,1)\n",
    "g.setDepthValue(1)  # draw grid after surfaces since they may be translucent\n",
    "w.addItem(g)\n",
    "\n",
    "\n",
    "## Simple surface plot example\n",
    "## x, y values are not specified, so assumed to be 0:50\n",
    "p1 = gl.GLSurfacePlotItem(x=x,y=y,z=z, shader='shaded', color=(0.5, 0.5, 1, 1))\n",
    "p1.translate(0, 0, -np.mean(z))\n",
    "w.addItem(p1)\n",
    "\n",
    "if (sys.flags.interactive != 1) or not hasattr(QtCore, 'PYQT_VERSION'):\n",
    "    QtGui.QApplication.instance().exec_()\n"
   ]
  },
  {
   "cell_type": "code",
   "execution_count": null,
   "metadata": {},
   "outputs": [],
   "source": [
    "np.min(z)"
   ]
  },
  {
   "cell_type": "code",
   "execution_count": null,
   "metadata": {},
   "outputs": [],
   "source": [
    "mM=[(28.141181603451873, 34.686789664332828),\n",
    "    (56.282363206903746, 69.373579328665656),\n",
    "    (229.81964976152321, 283.2754489253856),\n",
    "    (481.91773495911178, 594.01127300168048),\n",
    "    (2087.1376355893435, 2572.6035667713772),\n",
    "    (8559.6094043832582, 10550.565189567757),]"
   ]
  },
  {
   "cell_type": "code",
   "execution_count": null,
   "metadata": {},
   "outputs": [],
   "source": [
    "l=[]\n",
    "for i in range(4):\n",
    "    l.append([semCurrentsAt30kV[i+1]/semCurrentsAt30kV[i], mM[i+1][0]/mM[i][0],mM[i+1][1]/mM[i][1]])\n",
    "l"
   ]
  },
  {
   "cell_type": "code",
   "execution_count": null,
   "metadata": {},
   "outputs": [],
   "source": []
  }
 ],
 "metadata": {
  "anaconda-cloud": {},
  "kernelspec": {
   "display_name": "Python 3",
   "language": "python",
   "name": "python3"
  },
  "language_info": {
   "codemirror_mode": {
    "name": "ipython",
    "version": 3
   },
   "file_extension": ".py",
   "mimetype": "text/x-python",
   "name": "python",
   "nbconvert_exporter": "python",
   "pygments_lexer": "ipython3",
   "version": "3.6.4"
  }
 },
 "nbformat": 4,
 "nbformat_minor": 1
}
